{
 "cells": [
  {
   "cell_type": "markdown",
   "source": [
    "# Plan\n",
    "* Experiment with pcf and cmf limit difference\n",
    "* Try calculating a trajectory with a starting point and the same trajectory from a different starting point. Then calculate the shift and make sure the results are the same.\n",
    "* Try going straight down or to a different quadrant. Then try it from a starting point at the relevant quadrant"
   ],
   "metadata": {
    "collapsed": false
   }
  },
  {
   "cell_type": "code",
   "execution_count": 28,
   "metadata": {
    "collapsed": true,
    "ExecuteTime": {
     "end_time": "2025-03-24T18:50:27.817541200Z",
     "start_time": "2025-03-24T18:50:27.690122600Z"
    }
   },
   "outputs": [],
   "source": [
    "from ramanujantools.cmf.known_cmfs import pFq\n",
    "import sympy as sp\n",
    "\n",
    "import matplotlib.pyplot as plt\n",
    "import numpy as np\n",
    "\n",
    "x0, x1, y0 = sp.symbols('x0 x1 y0')\n",
    "pi_cmf = pFq(2, 1, sp.Rational(1, 2))"
   ]
  },
  {
   "cell_type": "markdown",
   "source": [
    "### First:\n",
    " Experiment with pcf and cmf limit difference"
   ],
   "metadata": {
    "collapsed": false
   }
  },
  {
   "cell_type": "code",
   "execution_count": 29,
   "outputs": [
    {
     "data": {
      "text/plain": "Matrix([\n[   (2*n - 1)*(2*n + 1)/(n*(4*n - 1)),                            (2*n + 1)/(2*n*(4*n - 1))],\n[(16*n + 8)/(4*n*(4*n - 3)*(4*n - 1)), (2*n + 1)*(8*n**2 - 6*n - 1)/(n*(4*n - 3)*(4*n - 1))]])",
      "text/latex": "$\\displaystyle \\left[\\begin{matrix}\\frac{\\left(2 n - 1\\right) \\left(2 n + 1\\right)}{n \\left(4 n - 1\\right)} & \\frac{2 n + 1}{2 n \\left(4 n - 1\\right)}\\\\\\frac{16 n + 8}{4 n \\left(4 n - 3\\right) \\left(4 n - 1\\right)} & \\frac{\\left(2 n + 1\\right) \\left(8 n^{2} - 6 n - 1\\right)}{n \\left(4 n - 3\\right) \\left(4 n - 1\\right)}\\end{matrix}\\right]$"
     },
     "execution_count": 29,
     "metadata": {},
     "output_type": "execute_result"
    }
   ],
   "source": [
    "start = {x0: sp.Rational(1, 2), x1: sp.Rational(1, 2), y0: sp.Rational(3, 2)}\n",
    "direction = {x0: 2, x1: 0, y0: 1}\n",
    "\n",
    "trajectory = pi_cmf.trajectory_matrix(direction, start)\n",
    "trajectory"
   ],
   "metadata": {
    "collapsed": false,
    "ExecuteTime": {
     "end_time": "2025-03-24T18:50:28.937134600Z",
     "start_time": "2025-03-24T18:50:28.921448900Z"
    }
   }
  },
  {
   "cell_type": "markdown",
   "source": [
    "Show the pcf representation and limit"
   ],
   "metadata": {
    "collapsed": false
   }
  },
  {
   "cell_type": "code",
   "execution_count": 30,
   "outputs": [
    {
     "name": "stdout",
     "output_type": "stream",
     "text": [
      "PCF(8*n, -16*n**2 + 16*n - 3) - \t -0.98477\n"
     ]
    }
   ],
   "source": [
    "pcf = trajectory.as_pcf().pcf\n",
    "print(f'{pcf} - \\t {pcf.limit(2000).as_float()}')"
   ],
   "metadata": {
    "collapsed": false,
    "ExecuteTime": {
     "end_time": "2025-03-24T18:50:30.865335100Z",
     "start_time": "2025-03-24T18:50:30.394097500Z"
    }
   }
  },
  {
   "cell_type": "code",
   "execution_count": 18,
   "outputs": [
    {
     "name": "stdout",
     "output_type": "stream",
     "text": [
      "Limit(Matrix([\n",
      "[23399243682488208080020179419135858500444650420075795659973694411679235331970320636002929043570688/7452936933655409571585247292895635522642673088804605895690942208771366026653031131779900696345325,  8000369712645865261517208262843056713426997333154697600908216587370192609431316436456788799258624/392259838613442609030802489099770290665403846779189783983733800461650843508054270093678984018175],\n",
      "[46798487364976416160040358838271717000889300840151591319947388823358470663940641272005858087141376/7452936933655409571585247292895635522642673088804605895690942208771366026653031131779900696345325, 16000739425291730523034416525686113426853994666309395201816433174740385218862632872913577598517248/392259838613442609030802489099770290665403846779189783983733800461650843508054270093678984018175]]), Matrix([\n",
      "[2228106675179082032464417142600431801513367605619453305862320799283434735281219980992456765210624/711555677307467890440085574577571074799407709219733010523469156830233477578834911796992894118151, 14398903934129891642741216358142871192484406948308511300573323842686123161235153469488150945464320/711555677307467890440085574577571074799407709219733010523469156830233477578834911796992894118151],\n",
      "[4456213350358164064928834285200863603026735211238906611724641598566869470562439961984913530421248/711555677307467890440085574577571074799407709219733010523469156830233477578834911796992894118151, 28797807868259783285482432716285742384968813896617022601146647685372246322470306938976301890928640/711555677307467890440085574577571074799407709219733010523469156830233477578834911796992894118151]])) - \t 0.5\n"
     ]
    }
   ],
   "source": [
    "lim = pi_cmf.limit(direction, 100, start)\n",
    "print(f'{lim} - \\t {lim.as_float()}')"
   ],
   "metadata": {
    "collapsed": false,
    "ExecuteTime": {
     "end_time": "2025-03-24T18:44:39.776894100Z",
     "start_time": "2025-03-24T18:44:39.742053400Z"
    }
   }
  },
  {
   "cell_type": "markdown",
   "source": [
    "-----------------------------------------------"
   ],
   "metadata": {
    "collapsed": false
   }
  },
  {
   "cell_type": "code",
   "execution_count": 20,
   "outputs": [],
   "source": [
    "s1 = {x0: sp.Rational(1, 2), x1: sp.Rational(1, 2), y0: sp.Rational(3, 2)}\n",
    "s2 = {x0: sp.Rational(1, 2), x1: sp.Rational(1, 2), y0: sp.Rational(1, 2)}\n",
    "d1 = {x0: 2, x1: 0, y0: 1}\n",
    "t1 = pi_cmf.trajectory_matrix(d1, s1)\n",
    "t2 = pi_cmf.trajectory_matrix(d1, s2)"
   ],
   "metadata": {
    "collapsed": false,
    "ExecuteTime": {
     "end_time": "2025-03-24T18:47:54.811278900Z",
     "start_time": "2025-03-24T18:47:54.475544700Z"
    }
   }
  },
  {
   "cell_type": "code",
   "execution_count": 21,
   "outputs": [
    {
     "data": {
      "text/plain": "Matrix([\n[   (2*n - 1)*(2*n + 1)/(n*(4*n - 1)),                            (2*n + 1)/(2*n*(4*n - 1))],\n[(16*n + 8)/(4*n*(4*n - 3)*(4*n - 1)), (2*n + 1)*(8*n**2 - 6*n - 1)/(n*(4*n - 3)*(4*n - 1))]])",
      "text/latex": "$\\displaystyle \\left[\\begin{matrix}\\frac{\\left(2 n - 1\\right) \\left(2 n + 1\\right)}{n \\left(4 n - 1\\right)} & \\frac{2 n + 1}{2 n \\left(4 n - 1\\right)}\\\\\\frac{16 n + 8}{4 n \\left(4 n - 3\\right) \\left(4 n - 1\\right)} & \\frac{\\left(2 n + 1\\right) \\left(8 n^{2} - 6 n - 1\\right)}{n \\left(4 n - 3\\right) \\left(4 n - 1\\right)}\\end{matrix}\\right]$"
     },
     "execution_count": 21,
     "metadata": {},
     "output_type": "execute_result"
    }
   ],
   "source": [
    "t1"
   ],
   "metadata": {
    "collapsed": false,
    "ExecuteTime": {
     "end_time": "2025-03-24T18:47:57.502479500Z",
     "start_time": "2025-03-24T18:47:57.458803700Z"
    }
   }
  },
  {
   "cell_type": "code",
   "execution_count": 22,
   "outputs": [
    {
     "data": {
      "text/plain": "Matrix([\n[       (2*n - 1)**2/((n - 1)*(4*n - 1)),                              (1 - 2*n)/((n - 1)*(8*n - 2))],\n[(2 - 4*n)/((n - 1)*(4*n - 3)*(4*n - 1)), (2*n - 1)*(8*n**2 - 6*n - 1)/((n - 1)*(4*n - 3)*(4*n - 1))]])",
      "text/latex": "$\\displaystyle \\left[\\begin{matrix}\\frac{\\left(2 n - 1\\right)^{2}}{\\left(n - 1\\right) \\left(4 n - 1\\right)} & \\frac{1 - 2 n}{\\left(n - 1\\right) \\left(8 n - 2\\right)}\\\\\\frac{2 - 4 n}{\\left(n - 1\\right) \\left(4 n - 3\\right) \\left(4 n - 1\\right)} & \\frac{\\left(2 n - 1\\right) \\left(8 n^{2} - 6 n - 1\\right)}{\\left(n - 1\\right) \\left(4 n - 3\\right) \\left(4 n - 1\\right)}\\end{matrix}\\right]$"
     },
     "execution_count": 22,
     "metadata": {},
     "output_type": "execute_result"
    }
   ],
   "source": [
    "t2"
   ],
   "metadata": {
    "collapsed": false,
    "ExecuteTime": {
     "end_time": "2025-03-24T18:48:01.157408400Z",
     "start_time": "2025-03-24T18:48:01.114552900Z"
    }
   }
  },
  {
   "cell_type": "code",
   "execution_count": 24,
   "outputs": [],
   "source": [
    "pcf1 = t1.as_pcf().pcf\n",
    "pcf2 = t2.as_pcf().pcf"
   ],
   "metadata": {
    "collapsed": false,
    "ExecuteTime": {
     "end_time": "2025-03-24T18:50:05.650807100Z",
     "start_time": "2025-03-24T18:50:04.892170700Z"
    }
   }
  },
  {
   "cell_type": "code",
   "execution_count": 25,
   "outputs": [
    {
     "data": {
      "text/plain": "PCF(8*n, -16*n**2 + 16*n - 3)"
     },
     "execution_count": 25,
     "metadata": {},
     "output_type": "execute_result"
    }
   ],
   "source": [
    "pcf1"
   ],
   "metadata": {
    "collapsed": false,
    "ExecuteTime": {
     "end_time": "2025-03-24T18:50:07.146797200Z",
     "start_time": "2025-03-24T18:50:07.107403500Z"
    }
   }
  },
  {
   "cell_type": "code",
   "execution_count": 26,
   "outputs": [
    {
     "data": {
      "text/plain": "PCF(-8*n, -16*n**2 + 16*n - 3)"
     },
     "execution_count": 26,
     "metadata": {},
     "output_type": "execute_result"
    }
   ],
   "source": [
    "pcf2"
   ],
   "metadata": {
    "collapsed": false,
    "ExecuteTime": {
     "end_time": "2025-03-24T18:50:09.571645700Z",
     "start_time": "2025-03-24T18:50:09.524340200Z"
    }
   }
  },
  {
   "cell_type": "code",
   "execution_count": 31,
   "outputs": [],
   "source": [
    "l1 = pcf1.limit(2000).as_float()\n",
    "l2 = pcf2.limit(2000).as_float()"
   ],
   "metadata": {
    "collapsed": false,
    "ExecuteTime": {
     "end_time": "2025-03-24T18:52:04.921537300Z",
     "start_time": "2025-03-24T18:52:04.618944500Z"
    }
   }
  },
  {
   "cell_type": "code",
   "execution_count": 32,
   "outputs": [
    {
     "data": {
      "text/plain": "mpf('-0.98476887')"
     },
     "execution_count": 32,
     "metadata": {},
     "output_type": "execute_result"
    }
   ],
   "source": [
    "l1"
   ],
   "metadata": {
    "collapsed": false,
    "ExecuteTime": {
     "end_time": "2025-03-24T18:52:10.611934700Z",
     "start_time": "2025-03-24T18:52:10.552659200Z"
    }
   }
  },
  {
   "cell_type": "code",
   "execution_count": 33,
   "outputs": [
    {
     "data": {
      "text/plain": "mpf('0.98476887')"
     },
     "execution_count": 33,
     "metadata": {},
     "output_type": "execute_result"
    }
   ],
   "source": [
    "l2"
   ],
   "metadata": {
    "collapsed": false,
    "ExecuteTime": {
     "end_time": "2025-03-24T18:52:12.004686700Z",
     "start_time": "2025-03-24T18:52:11.957468600Z"
    }
   }
  },
  {
   "cell_type": "code",
   "execution_count": null,
   "outputs": [],
   "source": [],
   "metadata": {
    "collapsed": false
   }
  }
 ],
 "metadata": {
  "kernelspec": {
   "display_name": "Python 3",
   "language": "python",
   "name": "python3"
  },
  "language_info": {
   "codemirror_mode": {
    "name": "ipython",
    "version": 2
   },
   "file_extension": ".py",
   "mimetype": "text/x-python",
   "name": "python",
   "nbconvert_exporter": "python",
   "pygments_lexer": "ipython2",
   "version": "2.7.6"
  }
 },
 "nbformat": 4,
 "nbformat_minor": 0
}
